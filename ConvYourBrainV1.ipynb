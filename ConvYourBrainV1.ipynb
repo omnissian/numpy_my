{
 "cells": [
  {
   "cell_type": "code",
   "execution_count": 7,
   "metadata": {},
   "outputs": [],
   "source": [
    "import numpy as np"
   ]
  },
  {
   "cell_type": "code",
   "execution_count": 8,
   "metadata": {},
   "outputs": [],
   "source": [
    "import matplotlib.pyplot as plt"
   ]
  },
  {
   "cell_type": "code",
   "execution_count": 35,
   "metadata": {},
   "outputs": [],
   "source": [
    "in_data=np.around((np.random.rand(3,4)),decimals=2)"
   ]
  },
  {
   "cell_type": "code",
   "execution_count": 36,
   "metadata": {},
   "outputs": [
    {
     "name": "stdout",
     "output_type": "stream",
     "text": [
      "[[0.77 0.36 0.32 0.96]\n",
      " [0.24 0.58 0.69 0.97]\n",
      " [0.36 0.48 0.85 0.76]]\n",
      "shape input= (3, 4)\n"
     ]
    }
   ],
   "source": [
    "print (in_data)\n",
    "print(\"shape input=\", in_data.shape)"
   ]
  },
  {
   "cell_type": "code",
   "execution_count": 37,
   "metadata": {},
   "outputs": [
    {
     "name": "stdout",
     "output_type": "stream",
     "text": [
      "[[0.8  0.17]\n",
      " [0.94 0.58]]\n"
     ]
    }
   ],
   "source": [
    "filter2d=np.around((np.random.rand(2,2)),decimals=2)\n",
    "print(filter2d)"
   ]
  },
  {
   "cell_type": "code",
   "execution_count": 38,
   "metadata": {},
   "outputs": [
    {
     "name": "stdout",
     "output_type": "stream",
     "text": [
      "0.48\n"
     ]
    }
   ],
   "source": [
    "print (in_data[2,1])"
   ]
  },
  {
   "cell_type": "code",
   "execution_count": 39,
   "metadata": {},
   "outputs": [],
   "source": [
    "#convlution process for 2D data\n",
    "# func return size of outro data\n",
    "def outro_size(in_data,filter2d,stride,pad):\n",
    "    n,m=in_data.shape\n",
    "    v,f=filter2d.shape #k=v,f respectively \n",
    "#     pad=0\n",
    "#     stride=1\n",
    "    outro_l=int(((n-v+2*pad)/(stride))+1)\n",
    "    outro_k=int(((m-f+2*pad)/(stride))+1)\n",
    "    return (outro_l,outro_k)\n"
   ]
  },
  {
   "cell_type": "code",
   "execution_count": 58,
   "metadata": {},
   "outputs": [
    {
     "name": "stdout",
     "output_type": "stream",
     "text": [
      "(2, 3)\n"
     ]
    },
    {
     "data": {
      "text/plain": [
       "array([[0., 0., 0.],\n",
       "       [0., 0., 0.]])"
      ]
     },
     "execution_count": 58,
     "metadata": {},
     "output_type": "execute_result"
    }
   ],
   "source": [
    "print(outro_size(inp,filter2d,1,0))\n",
    "outro_dim=outro_size(inp,filter2d,1,0)\n",
    "out=np.zeros(outro_dim)\n",
    "out"
   ]
  },
  {
   "cell_type": "code",
   "execution_count": 59,
   "metadata": {},
   "outputs": [],
   "source": [
    "#convolution function\n",
    "def conv2d(in_data,filter2d,out):\n",
    "    n,m=in_data.shape\n",
    "    v,f=filter2d.shape\n",
    "    l,k=out.shape\n",
    "    print(\"here we go\",out)\n",
    "#     outro_dim=outro_size(in_data,filter2d,stride,pad)\n",
    "#     out=np.zeros(outro_dim) # deleted in case of memory leak\n",
    "    for i in range(l):\n",
    "        for j in range(k):\n",
    "            for x in range(v):\n",
    "                for y in range(f):\n",
    "#                     print(\"before multiplication\",out[i,j])\n",
    "                    out[i,j]+=filter2d[x,y]*in_data[i+x][j+y]\n",
    "#                     print(\"after multiplication\",out[i,j])"
   ]
  },
  {
   "cell_type": "code",
   "execution_count": 60,
   "metadata": {},
   "outputs": [
    {
     "name": "stdout",
     "output_type": "stream",
     "text": [
      "here we go [[0. 0. 0.]\n",
      " [0. 0. 0.]]\n"
     ]
    },
    {
     "data": {
      "text/plain": [
       "array([[1.2392, 1.2878, 1.6304],\n",
       "       [0.9074, 1.5255, 1.9567]])"
      ]
     },
     "execution_count": 60,
     "metadata": {},
     "output_type": "execute_result"
    }
   ],
   "source": [
    "conv2d(in_data,filter2d,out)\n",
    "out"
   ]
  },
  {
   "cell_type": "code",
   "execution_count": 77,
   "metadata": {},
   "outputs": [],
   "source": [
    "def matrix_flatten_size(matrix):\n",
    "    d,n=matrix.shape\n",
    "    return (1,n*d)"
   ]
  },
  {
   "cell_type": "code",
   "execution_count": 78,
   "metadata": {},
   "outputs": [],
   "source": [
    "out_flattened=np.zeros(matrix_flatten_size(out))"
   ]
  },
  {
   "cell_type": "code",
   "execution_count": 82,
   "metadata": {},
   "outputs": [],
   "source": [
    "def matrix_flatten(matrix_in, matrix_out):\n",
    "    d,n=matrix_in.shape\n",
    "    for i in range(d):\n",
    "        for j in range(n):\n",
    "            matrix_out[0,i*n+j]=matrix_in[i,j]\n",
    "    "
   ]
  },
  {
   "cell_type": "code",
   "execution_count": 83,
   "metadata": {},
   "outputs": [],
   "source": [
    "in_data=np.zeros(matrix_flatten_size(out))\n",
    "matrix_flatten(out,in_data)"
   ]
  },
  {
   "cell_type": "code",
   "execution_count": 81,
   "metadata": {},
   "outputs": [
    {
     "name": "stdout",
     "output_type": "stream",
     "text": [
      "(1, 6)\n",
      "(2, 3)\n"
     ]
    }
   ],
   "source": [
    "print(in_data.shape)\n",
    "print(out.shape)"
   ]
  },
  {
   "cell_type": "code",
   "execution_count": 84,
   "metadata": {},
   "outputs": [
    {
     "data": {
      "text/plain": [
       "array([[1.2392, 1.2878, 1.6304],\n",
       "       [0.9074, 1.5255, 1.9567]])"
      ]
     },
     "execution_count": 84,
     "metadata": {},
     "output_type": "execute_result"
    }
   ],
   "source": [
    "out"
   ]
  },
  {
   "cell_type": "code",
   "execution_count": 85,
   "metadata": {},
   "outputs": [
    {
     "data": {
      "text/plain": [
       "array([[1.2392, 1.2878, 1.6304, 0.9074, 1.5255, 1.9567]])"
      ]
     },
     "execution_count": 85,
     "metadata": {},
     "output_type": "execute_result"
    }
   ],
   "source": [
    "in_data"
   ]
  },
  {
   "cell_type": "code",
   "execution_count": 86,
   "metadata": {},
   "outputs": [],
   "source": [
    "def activation (in_data):\n",
    "    d,n=in_data.shape\n",
    "    for i in range (d):\n",
    "        for j in range (n):\n",
    "            in_data[i,j]=((1)/(1+2.71828**(-1*in_data[i,j])))"
   ]
  },
  {
   "cell_type": "code",
   "execution_count": 87,
   "metadata": {},
   "outputs": [],
   "source": [
    "activation(in_data)"
   ]
  },
  {
   "cell_type": "code",
   "execution_count": 114,
   "metadata": {},
   "outputs": [
    {
     "name": "stdout",
     "output_type": "stream",
     "text": [
      "[[0.77542459 0.78377444 0.83622428 0.7124677  0.82134681 0.87617523]]\n"
     ]
    },
    {
     "data": {
      "text/plain": [
       "(1, 6)"
      ]
     },
     "execution_count": 114,
     "metadata": {},
     "output_type": "execute_result"
    }
   ],
   "source": [
    "print(in_data)\n",
    "in_data.shape"
   ]
  },
  {
   "cell_type": "code",
   "execution_count": 127,
   "metadata": {},
   "outputs": [
    {
     "name": "stdout",
     "output_type": "stream",
     "text": [
      "[[0.97362752]\n",
      " [0.86341054]\n",
      " [0.2059069 ]\n",
      " [0.51877051]\n",
      " [0.90128793]\n",
      " [0.88760212]]\n"
     ]
    }
   ],
   "source": [
    "d_previous,neurons_previous=in_data.shape\n",
    "neurons_current=1\n",
    "d_current=1\n",
    "Weight_matrix=np.random.rand(neurons_previous,neurons_current)\n",
    "# Weight_matrix=np.zeros((neurons_current,neurons_previous))\n",
    "\n",
    "print(Weight_matrix)"
   ]
  },
  {
   "cell_type": "code",
   "execution_count": 128,
   "metadata": {},
   "outputs": [],
   "source": [
    "def fully_connected_layer(in_data, weights):\n",
    "    return (np.matmul(in_data,weights))\n",
    "\n",
    "    "
   ]
  },
  {
   "cell_type": "code",
   "execution_count": 132,
   "metadata": {},
   "outputs": [],
   "source": [
    "out= fully_connected_layer(in_data, Weight_matrix)"
   ]
  },
  {
   "cell_type": "code",
   "execution_count": 133,
   "metadata": {},
   "outputs": [
    {
     "name": "stdout",
     "output_type": "stream",
     "text": [
      "[[3.49145036]]\n"
     ]
    }
   ],
   "source": [
    "print(out)"
   ]
  },
  {
   "cell_type": "code",
   "execution_count": 138,
   "metadata": {},
   "outputs": [],
   "source": [
    "def cost_function_se(label, out): #only for 1x1 D out! (output is a 1x1 tensor\\matrix)\n",
    "    return(0.5*(out.item()-label)**2)\n",
    "    \n",
    "    "
   ]
  },
  {
   "cell_type": "code",
   "execution_count": 144,
   "metadata": {},
   "outputs": [
    {
     "name": "stdout",
     "output_type": "stream",
     "text": [
      "3.1036624515162092\n"
     ]
    }
   ],
   "source": [
    "label=1 # just for instance\n",
    "print(cost_function_se(label,out))"
   ]
  },
  {
   "cell_type": "code",
   "execution_count": null,
   "metadata": {},
   "outputs": [],
   "source": []
  }
 ],
 "metadata": {
  "kernelspec": {
   "display_name": "Python 3",
   "language": "python",
   "name": "python3"
  },
  "language_info": {
   "codemirror_mode": {
    "name": "ipython",
    "version": 3
   },
   "file_extension": ".py",
   "mimetype": "text/x-python",
   "name": "python",
   "nbconvert_exporter": "python",
   "pygments_lexer": "ipython3",
   "version": "3.7.3"
  }
 },
 "nbformat": 4,
 "nbformat_minor": 2
}
